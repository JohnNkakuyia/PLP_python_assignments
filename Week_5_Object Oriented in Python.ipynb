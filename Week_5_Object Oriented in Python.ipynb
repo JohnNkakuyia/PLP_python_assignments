{
 "cells": [
  {
   "cell_type": "markdown",
   "metadata": {},
   "source": [
    "## Object Oriented in Python\n"
   ]
  },
  {
   "cell_type": "markdown",
   "metadata": {},
   "source": [
    "* Create a class representing anything you like (a `Smartphone`, `Book`, or even a `Superhero!`).\n",
    "* Add attributes and methods to bring the class to life!\n",
    "* Use constructors to initialize each object with unique values.\n",
    "* Add an inheritance layer to explore polymorphism or encapsulation."
   ]
  },
  {
   "cell_type": "code",
   "execution_count": 1,
   "metadata": {},
   "outputs": [
    {
     "name": "stdout",
     "output_type": "stream",
     "text": [
      "Superhero Alert! I am Spiderman, and my power is Web Shooting.\n",
      "I am Green Goblin, the villain! My evil plan: Destroy the city.\n",
      "Spiderman uses Web Shooting!\n",
      "Spiderman's weakness is Fear of Heights.\n"
     ]
    }
   ],
   "source": [
    "# -------------------------------\n",
    "# Parent Class: Character\n",
    "# -------------------------------\n",
    "class Character:\n",
    "    def __init__(self, name, universe):\n",
    "        self.name = name\n",
    "        self.universe = universe\n",
    "\n",
    "    def introduce(self):\n",
    "        return f\"I am {self.name} from {self.universe}.\"\n",
    "\n",
    "\n",
    "# -------------------------------\n",
    "# Child Class: Superhero\n",
    "# -------------------------------\n",
    "class Superhero(Character):\n",
    "    def __init__(self, name, universe, power, weakness):\n",
    "        super().__init__(name, universe)   # Inherit from Character\n",
    "        self.power = power\n",
    "        self.__weakness = weakness         # private (encapsulation)\n",
    "\n",
    "    def use_power(self):\n",
    "        return f\"{self.name} uses {self.power}!\"\n",
    "\n",
    "    # Encapsulation: controlled access to weakness\n",
    "    def reveal_weakness(self):\n",
    "        return f\"{self.name}'s weakness is {self.__weakness}.\"\n",
    "\n",
    "    # Polymorphism: overrides introduce\n",
    "    def introduce(self):\n",
    "        return f\"Superhero Alert! I am {self.name}, and my power is {self.power}.\"\n",
    "\n",
    "\n",
    "# -------------------------------\n",
    "# Child Class: Villain\n",
    "# -------------------------------\n",
    "class Villain(Character):\n",
    "    def __init__(self, name, universe, evil_plan):\n",
    "        super().__init__(name, universe)\n",
    "        self.evil_plan = evil_plan\n",
    "\n",
    "    def introduce(self):\n",
    "        return f\"I am {self.name}, the villain! My evil plan: {self.evil_plan}.\"\n",
    "\n",
    "\n",
    "# -------------------------------\n",
    "# Usage\n",
    "# -------------------------------\n",
    "hero = Superhero(\"Spiderman\", \"Marvel\", \"Web Shooting\", \"Fear of Heights\")\n",
    "villain = Villain(\"Green Goblin\", \"Marvel\", \"Destroy the city\")\n",
    "\n",
    "# Polymorphism in action\n",
    "characters = [hero, villain]\n",
    "for c in characters:\n",
    "    print(c.introduce())\n",
    "\n",
    "# Encapsulation\n",
    "print(hero.use_power())\n",
    "print(hero.reveal_weakness())\n"
   ]
  },
  {
   "cell_type": "markdown",
   "metadata": {},
   "source": [
    "* Create a program that includes animals or vehicles with the same action (like `move()`). However, make each class define `move()` differently (for example, `Car.move()` prints **\"Driving\" 🚗**, while `Plane.move()` prints **\"Flying\" ✈️**)."
   ]
  },
  {
   "cell_type": "code",
   "execution_count": 2,
   "metadata": {},
   "outputs": [
    {
     "name": "stdout",
     "output_type": "stream",
     "text": [
      "Driving 🚗\n",
      "Flying ✈️\n",
      "Sailing 🚤\n",
      "Riding 🚴\n"
     ]
    }
   ],
   "source": [
    "# Parent Class\n",
    "class Vehicle:\n",
    "    def move(self):\n",
    "        return \"Vehicle is moving...\"\n",
    "\n",
    "# Child Class: Car\n",
    "class Car(Vehicle):\n",
    "    def move(self):\n",
    "        return \"Driving 🚗\"\n",
    "\n",
    "# Child Class: Plane\n",
    "class Plane(Vehicle):\n",
    "    def move(self):\n",
    "        return \"Flying ✈️\"\n",
    "\n",
    "# Child Class: Boat\n",
    "class Boat(Vehicle):\n",
    "    def move(self):\n",
    "        return \"Sailing 🚤\"\n",
    "\n",
    "# Child Class: Bike\n",
    "class Bike(Vehicle):\n",
    "    def move(self):\n",
    "        return \"Riding 🚴\"\n",
    "\n",
    "# -------------------------------\n",
    "# Usage\n",
    "# -------------------------------\n",
    "vehicles = [Car(), Plane(), Boat(), Bike()]\n",
    "\n",
    "for v in vehicles:\n",
    "    print(v.move())\n"
   ]
  }
 ],
 "metadata": {
  "kernelspec": {
   "display_name": "Python 3",
   "language": "python",
   "name": "python3"
  },
  "language_info": {
   "codemirror_mode": {
    "name": "ipython",
    "version": 3
   },
   "file_extension": ".py",
   "mimetype": "text/x-python",
   "name": "python",
   "nbconvert_exporter": "python",
   "pygments_lexer": "ipython3",
   "version": "3.8.5"
  }
 },
 "nbformat": 4,
 "nbformat_minor": 4
}
