{
 "cells": [
  {
   "cell_type": "markdown",
   "metadata": {},
   "source": [
    "### assignment\n",
    "\n",
    "Week Two Assignment\n",
    "Description\n",
    "\n",
    "* Create an empty list called my_list.\n",
    "* Append the following elements to my_list: 10, 20, 30, 40.\n",
    "* Insert the value 15 at the second position in the list.\n",
    "* Extend my_list with another list: [50, 60, 70].\n",
    "* Remove the last element from my_list.\n",
    "* Sort my_list in ascending order.\n",
    "* Find and print the index of the value 30 in my_list.\n",
    "\n"
   ]
  },
  {
   "cell_type": "code",
   "execution_count": null,
   "metadata": {},
   "outputs": [],
   "source": [
    "# Creating an empty list my_list\n",
    "my_list = []"
   ]
  },
  {
   "cell_type": "code",
   "execution_count": null,
   "metadata": {},
   "outputs": [],
   "source": [
    "# apending 10,20,30 & 40 to my_list\n",
    "my_list.append(10)\n",
    "my_list.append(20)\n",
    "my_list.append(30)\n",
    "my_list.append(40)\n",
    "#print the new list\n",
    "print(my_list)"
   ]
  },
  {
   "cell_type": "code",
   "execution_count": null,
   "metadata": {},
   "outputs": [],
   "source": [
    "#inserting value 15 at the second position\n",
    "my_list.insert(1,15)\n",
    "my_list"
   ]
  },
  {
   "cell_type": "code",
   "execution_count": null,
   "metadata": {},
   "outputs": [],
   "source": [
    "# extending my_list with another list[50,60,70]\n",
    "my_list.extend([50,60,70])\n",
    "my_list"
   ]
  },
  {
   "cell_type": "code",
   "execution_count": null,
   "metadata": {},
   "outputs": [],
   "source": [
    "# removing the last element from the list\n",
    "my_list.pop()\n",
    "my_list"
   ]
  },
  {
   "cell_type": "code",
   "execution_count": null,
   "metadata": {},
   "outputs": [],
   "source": [
    "#sort in ascending order\n",
    "my_list.sort()\n",
    "my_list"
   ]
  },
  {
   "cell_type": "code",
   "execution_count": null,
   "metadata": {},
   "outputs": [],
   "source": [
    "#sort in descending order\n",
    "my_list.sort(reverse=True)\n",
    "my_list"
   ]
  },
  {
   "cell_type": "code",
   "execution_count": null,
   "metadata": {},
   "outputs": [],
   "source": [
    "#reverse to ascending order\n",
    "my_list.reverse()\n",
    "my_list"
   ]
  },
  {
   "cell_type": "code",
   "execution_count": null,
   "metadata": {},
   "outputs": [],
   "source": [
    "#find and print the value of 30\n",
    "index_30 = my_list.index(30)  # Get the index of value 30\n",
    "print(index_30)               # Print the index\n"
   ]
  },
  {
   "cell_type": "code",
   "execution_count": null,
   "metadata": {},
   "outputs": [],
   "source": []
  }
 ],
 "metadata": {
  "kernelspec": {
   "display_name": "Python 3",
   "language": "python",
   "name": "python3"
  },
  "language_info": {
   "codemirror_mode": {
    "name": "ipython",
    "version": 3
   },
   "file_extension": ".py",
   "mimetype": "text/x-python",
   "name": "python",
   "nbconvert_exporter": "python",
   "pygments_lexer": "ipython3",
   "version": "3.8.5"
  }
 },
 "nbformat": 4,
 "nbformat_minor": 4
}
