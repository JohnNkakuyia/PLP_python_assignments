{
 "cells": [
  {
   "cell_type": "markdown",
   "metadata": {},
   "source": [
    "### Week 3 Assignment"
   ]
  },
  {
   "cell_type": "markdown",
   "metadata": {},
   "source": [
    "* Create a function named calculate_discount(price, discount_percent) that calculates the final price after applying a discount. The function should take the original price (price) and the discount percentage (discount_percent) as parameters. If the discount is 20% or higher, apply the discount; otherwise, return the original price.\n",
    "* Using the calculate_discount function, prompt the user to enter the original price of an item and the discount percentage. Print the final price after applying the discount, or if no discount was applied, print the original price."
   ]
  },
  {
   "cell_type": "code",
   "execution_count": 1,
   "metadata": {},
   "outputs": [],
   "source": [
    "# Function to calculate discount\n",
    "def calculate_discount(price, discount_percent):\n",
    "    \"\"\"\n",
    "    Calculates the final price after applying discount\n",
    "    Only applies discount if discount_percent >= 20%\n",
    "    \"\"\"\n",
    "    if discount_percent >= 20:\n",
    "        discount_amount = (discount_percent / 100) * price\n",
    "        final_price = price - discount_amount\n",
    "        return final_price\n",
    "    else:\n",
    "        return price  # No discount applied"
   ]
  },
  {
   "cell_type": "code",
   "execution_count": 2,
   "metadata": {},
   "outputs": [
    {
     "name": "stdout",
     "output_type": "stream",
     "text": [
      "Enter the original price: 899\n",
      "Enter the discount percentage: 15\n",
      "No discount applied. Price remains: 899.0\n"
     ]
    }
   ],
   "source": [
    "# Prompt user for inputs\n",
    "original_price = float(input(\"Enter the original price: \"))\n",
    "discount_percentage = float(input(\"Enter the discount percentage: \"))\n",
    "\n",
    "# Calculate final price\n",
    "final_price = calculate_discount(original_price, discount_percentage)\n",
    "\n",
    "# Display result\n",
    "if discount_percentage >= 20:\n",
    "    print(f\"Final price after {discount_percentage}% discount: {final_price}\")\n",
    "else:\n",
    "    print(f\"No discount applied. Price remains: {final_price}\")"
   ]
  }
 ],
 "metadata": {
  "kernelspec": {
   "display_name": "Python 3",
   "language": "python",
   "name": "python3"
  },
  "language_info": {
   "codemirror_mode": {
    "name": "ipython",
    "version": 3
   },
   "file_extension": ".py",
   "mimetype": "text/x-python",
   "name": "python",
   "nbconvert_exporter": "python",
   "pygments_lexer": "ipython3",
   "version": "3.8.5"
  }
 },
 "nbformat": 4,
 "nbformat_minor": 4
}
