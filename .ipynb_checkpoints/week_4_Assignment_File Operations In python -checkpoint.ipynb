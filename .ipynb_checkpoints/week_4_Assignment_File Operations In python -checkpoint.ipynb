{
 "cells": [
  {
   "cell_type": "markdown",
   "metadata": {},
   "source": [
    "### File Operations in Python"
   ]
  },
  {
   "cell_type": "markdown",
   "metadata": {},
   "source": [
    "🔹 Challenge: Create a program that reads a text file, processes its content, and writes the results to a new file.\n",
    "\n",
    "📌 Task Requirements:\n",
    "Create a file called input.txt and write at least five lines of text into it.\n",
    "Write a Python script to:\n",
    "* Read the contents of input.txt.\n",
    "* Count the number of words in the file.\n",
    "* Convert all text to uppercase.\n",
    "* Write the processed text and the word count to a new file called output.txt.\n",
    "* Print a success message once the new file is created."
   ]
  },
  {
   "cell_type": "markdown",
   "metadata": {},
   "source": [
    "### Writing And Reading a file 📁"
   ]
  },
  {
   "cell_type": "code",
   "execution_count": 2,
   "metadata": {},
   "outputs": [],
   "source": [
    "# creating a file input.txt with several lines \n",
    "with open(\"input.txt\", \"w\") as f:\n",
    "    f.write(\"in this code we are dealing with file operations.\\n\")\n",
    "    f.write(\"this operation allow us to read and write on the file.\\n\")\n",
    "    f.write(\"we have several types of files which includes; text, excel, pdf.\\n\")\n",
    "    f.write(\"we have 'r' for reading 'w' for writing and 'a' for appending.\\n\")\n",
    "    f.write(\"after open a file for best practice we close the file to release system resources\\n\")"
   ]
  },
  {
   "cell_type": "code",
   "execution_count": 4,
   "metadata": {},
   "outputs": [
    {
     "name": "stdout",
     "output_type": "stream",
     "text": [
      "in this code we are dealing with file operations.\n",
      "this operation allow us to read and write on the file.\n",
      "we have several types of files which includes; text, excel, pdf.\n",
      "we have 'r' for reading 'w' for writing and 'a' for appending.\n",
      "after open a file for best practice we close the file to release system resources\n",
      "\n"
     ]
    }
   ],
   "source": [
    "# reading the content of input.txt\n",
    "with open(\"input.txt\", \"r\") as f:\n",
    "    content = f.read()\n",
    "print(content)\n"
   ]
  },
  {
   "cell_type": "code",
   "execution_count": 7,
   "metadata": {},
   "outputs": [
    {
     "name": "stdout",
     "output_type": "stream",
     "text": [
      "the number of words in the input.txt file is  {58}\n"
     ]
    }
   ],
   "source": [
    "# counting the number of words in a file\n",
    "words = content.split()# splits by spaces and new lines\n",
    "number_of_words = len(words)\n",
    "print(\"the number of words in the input.txt file is \", {number_of_words})"
   ]
  },
  {
   "cell_type": "code",
   "execution_count": 9,
   "metadata": {},
   "outputs": [
    {
     "name": "stdout",
     "output_type": "stream",
     "text": [
      "IN THIS CODE WE ARE DEALING WITH FILE OPERATIONS.\n",
      "THIS OPERATION ALLOW US TO READ AND WRITE ON THE FILE.\n",
      "WE HAVE SEVERAL TYPES OF FILES WHICH INCLUDES; TEXT, EXCEL, PDF.\n",
      "WE HAVE 'R' FOR READING 'W' FOR WRITING AND 'A' FOR APPENDING.\n",
      "AFTER OPEN A FILE FOR BEST PRACTICE WE CLOSE THE FILE TO RELEASE SYSTEM RESOURCES\n",
      "\n"
     ]
    }
   ],
   "source": [
    "# Convert to uppercase\n",
    "upper_content = content.upper()\n",
    "\n",
    "print(upper_content)"
   ]
  },
  {
   "cell_type": "code",
   "execution_count": 11,
   "metadata": {},
   "outputs": [],
   "source": [
    "#  Write processed text and word count to a new file\n",
    "with open(\"output.txt\", \"w\") as f:\n",
    "    f.write(\"Processed Text (Uppercase):\\n\")\n",
    "    f.write(upper_content + \"\\n\\n\")   # Add processed content\n",
    "    f.write(f\"Word Count: {number_of_words}\\n\")   # Add word count"
   ]
  },
  {
   "cell_type": "code",
   "execution_count": 13,
   "metadata": {},
   "outputs": [
    {
     "name": "stdout",
     "output_type": "stream",
     "text": [
      "files reads successfully\n"
     ]
    }
   ],
   "source": [
    "# Print a success message once the new file is created.\n",
    "try:\n",
    "    with open(\"output.txt\", \"r\") as f:\n",
    "        content_2 = f.read()\n",
    "except FileNotFoundError:\n",
    "    print(\"file not found, please check your files\")\n",
    "else:\n",
    "    print(\"files reads successfully\")"
   ]
  },
  {
   "cell_type": "markdown",
   "metadata": {},
   "source": [
    "### Reads a file, processes it (uppercase), and writes to a new file."
   ]
  },
  {
   "cell_type": "code",
   "execution_count": 14,
   "metadata": {},
   "outputs": [
    {
     "name": "stdout",
     "output_type": "stream",
     "text": [
      "✅ File processed successfully! Check output.txt\n"
     ]
    }
   ],
   "source": [
    "# File Read & Write Challenge 🖋️\n",
    "\n",
    "try:\n",
    "    # Read input file\n",
    "    with open(\"input.txt\", \"r\") as f:\n",
    "        content = f.read()\n",
    "\n",
    "    # Modify content (uppercase)\n",
    "    modified_content = content.upper()\n",
    "\n",
    "    # Write to new file\n",
    "    with open(\"output.txt\", \"w\") as f:\n",
    "        f.write(\"Modified Content:\\n\")\n",
    "        f.write(modified_content)\n",
    "\n",
    "    print(\"✅ File processed successfully! Check output.txt\")\n",
    "\n",
    "except FileNotFoundError:\n",
    "    print(\"❌ Error: input.txt not found.\")\n",
    "except Exception as e:\n",
    "    print(f\"⚠️ Unexpected error: {e}\")\n"
   ]
  },
  {
   "cell_type": "markdown",
   "metadata": {},
   "source": [
    "### 🧪 Error Handling Lab"
   ]
  },
  {
   "cell_type": "code",
   "execution_count": 15,
   "metadata": {},
   "outputs": [
    {
     "name": "stdout",
     "output_type": "stream",
     "text": [
      "Enter the filename to read: input.txt\n",
      "\n",
      "✅ File content successfully read!\n",
      "\n",
      "in this code we are dealing with file operations.\n",
      "this operation allow us to read and write on the file.\n",
      "we have several types of files which includes; text, excel, pdf.\n",
      "we have 'r' for reading 'w' for writing and 'a' for appending.\n",
      "after open a file for best practice we close the file to release system resources\n",
      "\n"
     ]
    }
   ],
   "source": [
    "# Error Handling Lab 🧪\n",
    "\n",
    "filename = input(\"Enter the filename to read: \")\n",
    "\n",
    "try:\n",
    "    # Try to open the file\n",
    "    with open(filename, \"r\") as f:\n",
    "        content = f.read()\n",
    "        print(\"\\n✅ File content successfully read!\\n\")\n",
    "        print(content)\n",
    "\n",
    "except FileNotFoundError:\n",
    "    print(f\"❌ Error: The file '{filename}' does not exist.\")\n",
    "except PermissionError:\n",
    "    print(f\"⚠️ Error: You don’t have permission to read '{filename}'.\")\n",
    "except Exception as e:\n",
    "    print(f\"⚠️ Unexpected error: {e}\")\n"
   ]
  },
  {
   "cell_type": "code",
   "execution_count": null,
   "metadata": {},
   "outputs": [],
   "source": []
  }
 ],
 "metadata": {
  "kernelspec": {
   "display_name": "Python 3",
   "language": "python",
   "name": "python3"
  },
  "language_info": {
   "codemirror_mode": {
    "name": "ipython",
    "version": 3
   },
   "file_extension": ".py",
   "mimetype": "text/x-python",
   "name": "python",
   "nbconvert_exporter": "python",
   "pygments_lexer": "ipython3",
   "version": "3.8.5"
  }
 },
 "nbformat": 4,
 "nbformat_minor": 4
}
