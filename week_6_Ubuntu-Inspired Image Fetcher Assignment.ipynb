{
 "cells": [
  {
   "cell_type": "markdown",
   "metadata": {},
   "source": [
    "# 🐍 Python Libraries Assignment  \n",
    "\n",
    "## 📌 Description  \n",
    "### **Ubuntu-Inspired Image Fetcher Assignment**  \n",
    "> *The Wisdom of Ubuntu: \"I am because we are\"*  \n",
    "\n",
    "In the spirit of **Ubuntu**, which emphasizes *community* and *sharing*, your task is to create a program that connects to the global community of the internet, respectfully fetches shared resources, and organizes them for later appreciation.  \n",
    "\n",
    "---\n",
    "\n",
    "## 🎯 Your Task  \n",
    "Create a Python script that:  \n",
    "- Prompts the user for a **URL containing an image**.  \n",
    "- Creates a directory called **`Fetched_Images`** if it doesn't exist.  \n",
    "- Downloads the image from the provided URL.  \n",
    "- Saves it to the **`Fetched_Images`** directory with an appropriate filename.  \n",
    "- Handles errors gracefully, respecting that not all connections succeed.  \n",
    "\n",
    "---\n",
    "\n",
    "## 📚 Requirements  \n",
    "- Use the **`requests`** library to fetch the image.  \n",
    "- Check for **HTTP errors** and handle them appropriately.  \n",
    "- Create the directory if it doesn't exist using:  \n",
    "  ```python\n",
    "  os.makedirs(\"Fetched_Images\", exist_ok=True)\n"
   ]
  },
  {
   "cell_type": "code",
   "execution_count": 2,
   "metadata": {},
   "outputs": [
    {
     "name": "stdout",
     "output_type": "stream",
     "text": [
      "Welcome to the Ubuntu Image Fetcher\n",
      "A tool for mindfully collecting images from the web\n",
      "\n",
      "Please enter the image URL: https://www.google.com/search?q=images&oq=&gs_lcrp=EgZjaHJvbWUqBggFEEUYOzIPCAAQABhDGOMCGIAEGIoFMgwIARAuGEMYgAQYigUyDAgCEAAYQxiABBiKBTIPCAMQABhDGLEDGIAEGIoFMhIIBBAAGEMYsQMYyQMYgAQYigUyBggFEEUYOzIQCAYQLhivARjHARiSAxiABDIGCAcQRRg90gEINDk2OGowajeoAgCwAgA&sourceid=chrome&ie=UTF-8#sv=CBASoQsK1goKBtrZ29IPABLLCgrqAQrnAbrZ29IP4AEKPmh0dHBzOi8vd3d3LmlzdG9ja3Bob3RvLmNvbS9zdG9jay1waG90b3MvbmF0dXJlLWFuZC1sYW5kc2NhcGVzEgZpU3RvY2sakQFodHRwczovL2VuY3J5cHRlZC10Ym4yLmdzdGF0aWMuY29tL2Zhdmljb25WMj91cmw9aHR0cHM6Ly93d3cuaXN0b2NrcGhvdG8uY29tJmNsaWVudD1JTUFHRV9TRUFSQ0gmc2l6ZT0yNCZ0eXBlPUZBVklDT04mZmFsbGJhY2tfb3B0cz1UWVBFLFNJWkUsVVJMIAE4AQqMAQqJAdLZ29IPggEKPk5hdHVyZSBBbmQgTGFuZHNjYXBlcyBTdG9jayBQaG90b3MsIEltYWdlcyAmIFBpY3R1cmVzIC0gaVN0b2NrEj5odHRwczovL3d3dy5pc3RvY2twaG90by5jb20vc3RvY2stcGhvdG9zL25hdHVyZS1hbmQtbGFuZHNjYXBlcxoACswFCskFwtnb0g_CBRI-TmF0dXJlIEFuZCBMYW5kc2NhcGVzIFN0b2NrIFBob3RvcywgSW1hZ2VzICYgUGljdHVyZXMgLSBpU3RvY2tS_gIYAio-TmF0dXJlIEFuZCBMYW5kc2NhcGVzIFN0b2NrIFBob3RvcywgSW1hZ2VzICYgUGljdHVyZXMgLSBpU3RvY2sy-QEKDkxnVTF0d2s4bjNxTTlNEj5odHRwczovL3d3dy5pc3RvY2twaG90by5jb20vc3RvY2stcGhvdG9zL25hdHVyZS1hbmQtbGFuZHNjYXBlcxoOWDZ1U1NmbjlOTFFCcU0ggAgoggUyiwFodHRwczovL21lZGlhLmlzdG9ja3Bob3RvLmNvbS9pZC81MTcxODg2ODgvcGhvdG8vbW91bnRhaW4tbGFuZHNjYXBlLmpwZz9zPTEwMjR4MTAyNCZ3PTAmaz0yMCZjPXo4X3JXYUk4eDR6QXBORUVHOURuV2xHWHlESVhlLU9tc0F5UTVmR1BWVjg9OJYBQF46Pmh0dHBzOi8vd3d3LmlzdG9ja3Bob3RvLmNvbS9zdG9jay1waG90b3MvbmF0dXJlLWFuZC1sYW5kc2NhcGVzYqoBCgxJTUFHRV9SRVNVTFQaBkZJTFRFUiAAKAAwAEKLAWh0dHBzOi8vbWVkaWEuaXN0b2NrcGhvdG8uY29tL2lkLzUxNzE4ODY4OC9waG90by9tb3VudGFpbi1sYW5kc2NhcGUuanBnP3M9MTAyNHgxMDI0Jnc9MCZrPTIwJmM9ejhfcldhSTh4NHpBcE5FRUc5RG5XbEdYeURJWGUtT21zQXlRNWZHUFZWOD1yUgo-aHR0cHM6Ly93d3cuaXN0b2NrcGhvdG8uY29tL3N0b2NrLXBob3Rvcy9uYXR1cmUtYW5kLWxhbmRzY2FwZXMoHjIOU291cmNlOiBpU3RvY2sK_QEK-gHK2dvSD_MBEs4BIssBL3NlYXJjaC9hYm91dC10aGlzLXJlc3VsdD9vcmlnaW49d3d3Lmdvb2dsZS5jb20mcmVxPUNqNW9kSFJ3Y3pvdkwzZDNkeTVwYzNSdlkydHdhRzkwYnk1amIyMHZjM1J2WTJzdGNHaHZkRzl6TDI1aGRIVnlaUzFoYm1RdGJHRnVaSE5qWVhCbGN4SVlDZ3dLQWdoT0NnSUlUUW9DQ0Q4U0JBb0NDQ0FhQWdnQUdnQWlBaEFCU0FCWUFHZ0EmaGw9ZW4tS0UmZ2w9S0UaFmh0dHBzOi8vd3d3Lmdvb2dsZS5jb21aAGABaAFwAHgAEkZhdHJpdGVtLWh0dHBzOi8vd3d3LmlzdG9ja3Bob3RvLmNvbS9zdG9jay1waG90b3MvbmF0dXJlLWFuZC1sYW5kc2NhcGVzGC8g28qsogQwAg\n",
      "✓ Successfully fetched: search\n",
      "✓ Image saved to Fetched_Images\\search\n",
      "\n",
      "Connection strengthened. Community enriched.\n"
     ]
    }
   ],
   "source": [
    "import requests\n",
    "import os\n",
    "from urllib.parse import urlparse\n",
    "\n",
    "def main():\n",
    "    print(\"Welcome to the Ubuntu Image Fetcher\")\n",
    "    print(\"A tool for mindfully collecting images from the web\\n\")\n",
    "\n",
    "    # Get URL from user\n",
    "    url = input(\"Please enter the image URL: \")\n",
    "\n",
    "    try:\n",
    "        # Create directory if it doesn't exist\n",
    "        os.makedirs(\"Fetched_Images\", exist_ok=True)\n",
    "\n",
    "        # Fetch the image\n",
    "        response = requests.get(url, timeout=10)\n",
    "        response.raise_for_status()  # Raise exception for bad status codes\n",
    "\n",
    "        # Extract filename from URL or generate one\n",
    "        parsed_url = urlparse(url)\n",
    "        filename = os.path.basename(parsed_url.path)\n",
    "        if not filename:\n",
    "            filename = \"downloaded_image.jpg\"\n",
    "\n",
    "        # Save the image\n",
    "        filepath = os.path.join(\"Fetched_Images\", filename)\n",
    "        with open(filepath, 'wb') as f:\n",
    "            f.write(response.content)\n",
    "\n",
    "        print(f\"✓ Successfully fetched: {filename}\")\n",
    "        print(f\"✓ Image saved to {filepath}\")\n",
    "        print(\"\\nConnection strengthened. Community enriched.\")\n",
    "\n",
    "    except requests.exceptions.RequestException as e:\n",
    "        print(f\"✗ Connection error: {e}\")\n",
    "    except Exception as e:\n",
    "        print(f\"✗ An error occurred: {e}\")\n",
    "\n",
    "if __name__ == \"__main__\":\n",
    "    main()\n"
   ]
  }
 ],
 "metadata": {
  "kernelspec": {
   "display_name": "Python 3",
   "language": "python",
   "name": "python3"
  },
  "language_info": {
   "codemirror_mode": {
    "name": "ipython",
    "version": 3
   },
   "file_extension": ".py",
   "mimetype": "text/x-python",
   "name": "python",
   "nbconvert_exporter": "python",
   "pygments_lexer": "ipython3",
   "version": "3.8.5"
  }
 },
 "nbformat": 4,
 "nbformat_minor": 4
}
